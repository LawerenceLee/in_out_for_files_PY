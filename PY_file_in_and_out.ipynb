{
 "cells": [
  {
   "cell_type": "markdown",
   "metadata": {},
   "source": [
    "# Writing to Files\n",
    "\n",
    "* `open(filename, mode=\"r\")` opens a file. More info [in the docs.](https://docs.python.org/3/library/functions.html#open) \n",
    "* By default `open` without arguments opens a file for reading\n",
    "* `file.write(\"hello world\")` would write \"hello world\" to whatever file the file variable points at.\n",
    "* `file.close()` closes the pointer to the file file.\n",
    "* The two most common modes or flags for writing are `\"w\"`, for truncating and then writing, and `\"a\"` for appending to the file.\n",
    "\n",
    "The context manager pattern for dealing with files is:\n",
    "\n",
    "`with open(\"my_file.txt\", \"a\") as file:`\n",
    "\n",
    "&nbsp;&nbsp;`file.write(\"Hello world\")`"
   ]
  },
  {
   "cell_type": "code",
   "execution_count": 4,
   "metadata": {},
   "outputs": [
    {
     "name": "stdout",
     "output_type": "stream",
     "text": [
      "What should I remember? Milk\n"
     ]
    }
   ],
   "source": [
    "# remember_basic.py\n",
    "\n",
    "def rememberer(thing):\n",
    "    with open('database.txt', 'a') as file:\n",
    "        file.write(thing+'\\n')\n",
    "\n",
    "if __name__ == '__main__':\n",
    "    rememberer(input(\"What should I remember? \"))"
   ]
  },
  {
   "cell_type": "markdown",
   "metadata": {},
   "source": [
    "# Reading from Files\n",
    "\n",
    "* `open(filename, mode=\"r\")` opens a file. More info in the [docs.](https://docs.python.org/3/library/functions.html#open)\n",
    "* `file.read(bytes=-1)` would read the entire contents of the file. You can control the number of bytes read by passing in an integer. Relatedly, `file.seek()` will move the read/write pointer to another part of the file.\n",
    "* `file.readlines()` reads the entire file into a list, with each line as a list item.\n",
    "\n",
    "The context manager pattern for dealing with files is:\n",
    "\n",
    "`with open(\"my_file.txt\", \"r\") as file:`\n",
    "\n",
    "&nbsp;&nbsp;&nbsp;&nbsp;&nbsp;`file.read(10)`\n",
    "    \n",
    "For more about sys.argv, check out the [docs.](https://docs.python.org/3/library/sys.html#sys.argv)"
   ]
  },
  {
   "cell_type": "code",
   "execution_count": 19,
   "metadata": {
    "collapsed": true
   },
   "outputs": [],
   "source": [
    "# remember_sys.py\n",
    "import sys\n",
    "\n",
    "def show():\n",
    "    with open('database.txt') as file:\n",
    "        for line in file:\n",
    "            print(line)\n",
    "\n",
    "def rememberer(thing):\n",
    "    with open('database.txt', 'a') as file:\n",
    "        file.write(thing+'\\n')\n",
    "\n",
    "if __name__ == '__main__':\n",
    "    if sys.argv[1].lower() == '--list':\n",
    "        show()\n",
    "    else:\n",
    "        rememberer(' '.join(sys.argv[1:]))"
   ]
  },
  {
   "cell_type": "markdown",
   "metadata": {},
   "source": [
    "__Running remember_sys.py in Terminal with an argument :__\n",
    "* Apple will be added to database.txt"
   ]
  },
  {
   "cell_type": "code",
   "execution_count": 31,
   "metadata": {
    "collapsed": true
   },
   "outputs": [],
   "source": [
    "! python remember_sys.py Apple"
   ]
  },
  {
   "cell_type": "markdown",
   "metadata": {},
   "source": [
    "__`--list` argument shows the contents of database.txt :__"
   ]
  },
  {
   "cell_type": "code",
   "execution_count": 32,
   "metadata": {},
   "outputs": [
    {
     "name": "stdout",
     "output_type": "stream",
     "text": [
      "Tree juice\r\n",
      "\r\n",
      "Milk\r\n",
      "\r\n",
      "Juice\r\n",
      "\r\n",
      "Apple\r\n",
      "\r\n",
      "Apple\r\n",
      "\r\n"
     ]
    }
   ],
   "source": [
    "! python remember_sys.py --list"
   ]
  },
  {
   "cell_type": "markdown",
   "metadata": {},
   "source": [
    "__Command Line Example :__"
   ]
  },
  {
   "cell_type": "code",
   "execution_count": 34,
   "metadata": {},
   "outputs": [
    {
     "data": {
      "text/plain": [
       "'Tree juice'"
      ]
     },
     "execution_count": 34,
     "metadata": {},
     "output_type": "execute_result"
    }
   ],
   "source": [
    "file = open('database.txt')\n",
    "file.read(10)  # reading 10 bytes"
   ]
  },
  {
   "cell_type": "markdown",
   "metadata": {},
   "source": [
    "Read the rest of the file"
   ]
  },
  {
   "cell_type": "code",
   "execution_count": 35,
   "metadata": {},
   "outputs": [
    {
     "data": {
      "text/plain": [
       "'\\nMilk\\nJuice\\nApple\\nApple\\n'"
      ]
     },
     "execution_count": 35,
     "metadata": {},
     "output_type": "execute_result"
    }
   ],
   "source": [
    "file.read()"
   ]
  },
  {
   "cell_type": "markdown",
   "metadata": {},
   "source": [
    "Reset read/write pointer to the beginning of the file"
   ]
  },
  {
   "cell_type": "code",
   "execution_count": 36,
   "metadata": {},
   "outputs": [
    {
     "data": {
      "text/plain": [
       "0"
      ]
     },
     "execution_count": 36,
     "metadata": {},
     "output_type": "execute_result"
    }
   ],
   "source": [
    "file.seek(0)"
   ]
  },
  {
   "cell_type": "markdown",
   "metadata": {},
   "source": [
    "Save each line in a file to a list like object"
   ]
  },
  {
   "cell_type": "code",
   "execution_count": 37,
   "metadata": {},
   "outputs": [
    {
     "data": {
      "text/plain": [
       "5"
      ]
     },
     "execution_count": 37,
     "metadata": {},
     "output_type": "execute_result"
    }
   ],
   "source": [
    "lines = file.readlines()\n",
    "len(lines)  # How many lines do we have?"
   ]
  },
  {
   "cell_type": "markdown",
   "metadata": {},
   "source": [
    "Iterate through the list of lines in text file"
   ]
  },
  {
   "cell_type": "code",
   "execution_count": 38,
   "metadata": {},
   "outputs": [
    {
     "name": "stdout",
     "output_type": "stream",
     "text": [
      "\n",
      "eciuj eerT\n",
      "\n",
      "kliM\n",
      "\n",
      "eciuJ\n",
      "\n",
      "elppA\n",
      "\n",
      "elppA\n"
     ]
    }
   ],
   "source": [
    "for line in lines:\n",
    "    print(line[::-1])"
   ]
  },
  {
   "cell_type": "code",
   "execution_count": 4,
   "metadata": {},
   "outputs": [
    {
     "data": {
      "text/plain": [
       "datetime.datetime(2017, 9, 19, 17, 50, 56, 187514)"
      ]
     },
     "execution_count": 4,
     "metadata": {},
     "output_type": "execute_result"
    }
   ],
   "source": [
    "import datetime\n",
    "datetime.datetime.now()"
   ]
  },
  {
   "cell_type": "code",
   "execution_count": null,
   "metadata": {
    "collapsed": true
   },
   "outputs": [],
   "source": []
  }
 ],
 "metadata": {
  "kernelspec": {
   "display_name": "Python 3",
   "language": "python",
   "name": "python3"
  },
  "language_info": {
   "codemirror_mode": {
    "name": "ipython",
    "version": 3
   },
   "file_extension": ".py",
   "mimetype": "text/x-python",
   "name": "python",
   "nbconvert_exporter": "python",
   "pygments_lexer": "ipython3",
   "version": "3.6.1"
  }
 },
 "nbformat": 4,
 "nbformat_minor": 2
}
